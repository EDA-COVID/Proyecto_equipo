{
 "metadata": {
  "language_info": {
   "codemirror_mode": {
    "name": "ipython",
    "version": 3
   },
   "file_extension": ".py",
   "mimetype": "text/x-python",
   "name": "python",
   "nbconvert_exporter": "python",
   "pygments_lexer": "ipython3",
   "version": "3.9.1-final"
  },
  "orig_nbformat": 2,
  "kernelspec": {
   "name": "python3",
   "display_name": "Python 3.9.1 64-bit",
   "metadata": {
    "interpreter": {
     "hash": "39d55fcea0de274635a1f464e9bc70e6df40b06e7f45303bbd60add6a4a03e58"
    }
   }
  }
 },
 "nbformat": 4,
 "nbformat_minor": 2,
 "cells": [
  {
   "cell_type": "code",
   "execution_count": 1,
   "metadata": {},
   "outputs": [],
   "source": [
    "import pandas as pd\n",
    "import requests\n",
    "import json"
   ]
  },
  {
   "cell_type": "code",
   "execution_count": 2,
   "metadata": {},
   "outputs": [],
   "source": [
    "def jsonlink_df(url_json):\n",
    "    \"\"\"\n",
    "    What it does:\n",
    "        # This function opens a json in python from a given url/link\n",
    "\n",
    "    What it needs:\n",
    "        # The url of the destination file, must be a string.\n",
    "\n",
    "    What it returns:\n",
    "        # The opened json as dataframe \n",
    "        GITHUB ID: @anaisvh\n",
    "        \"\"\"\n",
    "    r = requests.get(url=url_json)\n",
    "    json_readed = json.loads(r.text)\n",
    "    df = pd.DataFrame(json_readed)\n",
    "    return df"
   ]
  }
 ]
}
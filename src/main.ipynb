{
 "metadata": {
  "language_info": {
   "codemirror_mode": {
    "name": "ipython",
    "version": 3
   },
   "file_extension": ".py",
   "mimetype": "text/x-python",
   "name": "python",
   "nbconvert_exporter": "python",
   "pygments_lexer": "ipython3",
   "version": "3.9.0-final"
  },
  "orig_nbformat": 2,
  "kernelspec": {
   "name": "python3",
   "display_name": "Python 3.9.0 64-bit",
   "metadata": {
    "interpreter": {
     "hash": "2e3c1e8da6e821b0193601da5a0e541c0efda9704da45b6b820f5f4c317f2def"
    }
   }
  }
 },
 "nbformat": 4,
 "nbformat_minor": 2,
 "cells": [
  {
   "source": [
    "\n",
    "Group A: Anais, Andreea y Mar\n",
    "\n",
    "Countries assigned:\n",
    "    Argentina, Russia, Colombia, Chile and Spain\n",
    "\n",
    "\n",
    "Option C\n",
    "\n",
    "1. Document all steps. Structure your code to keep it cleaned using good practices.\n",
    "\n",
    "DONE: 2. Collect Coronavirus Data. It is mandatory that in each call, it collects the last updated data.\n",
    "\n",
    "MAR: 3. Determine and explain if the data is cleaned. If not, then clean it.\n",
    "\n",
    "4. Create an API that returns a Json with the logic explained for your group. The flask server must be executed running the src/api/server.py file.\n",
    "5. Get the jsons generated from your annexed group and plot it. First, try to connect to the private ip of your     annexed group. If it is not possible because of physical issues, then simply use what they generate copying it. If your annexed group cannot give you the necessary json, then annotate it, use the json of another group.\n",
    "\n",
    "ANAIS: 6. Show different tendencies for each column in your dataset. Show, vertically, the start date and end date of the alarm state in each plot. If there is no alarm state, then show only the start date.\n",
    "\n",
    "ANDREEA: 7. Draw the workflow of your program. You can use free tools.\n",
    "\n",
    "8. Per country, which are the columns that are more related find the correlation between columns with the           correlation matrix.\n",
    "\n",
    "DONE: 9. Use a different github repository adding all group participants with write permissions. Use that repository to manage the delivery code and resources. It is mandatory that every student of the group does, at least,five commits/push.\n",
    "\n",
    "    10. Answer the questions:\n",
    "        a. What position do your countries occupe respect to the number of total infected, total deaths and                 total recoveries?\n",
    "        b. What can you conclude about your data study?\n",
    "        c. Are there outliers or some rare data?\n",
    "\n",
    "\n",
    "\n",
    "Our API must offer data to Group B and receive it from Group F, as follows:\n",
    "\n",
    "    We have to offer a json(df):\n",
    "    - Group A: it must return a json with one key “n_c_averages” that represents\n",
    "    the mean of the “new_cases” per day of all of your countries.\n",
    "\n",
    "\n",
    "    We should receive a json(df):\n",
    "    - Group F: it must return a json with one key “n_t_averages” that represents the\n",
    "    mean of the “new_tests” per day of all your countries.\n",
    "    \n",
    "Option B.... to be continued"
   ],
   "cell_type": "markdown",
   "metadata": {}
  },
  {
   "cell_type": "code",
   "execution_count": 1,
   "metadata": {},
   "outputs": [],
   "source": [
    "import pandas as pd\n",
    "import seaborn as sns\n",
    "from utils.folders_tb import jsonlink_df\n",
    "from utils.mining_data_tb import extract_dict_values,filter_df, df_covid, remove_outlier, datetime\n",
    "#from utils import visualization_tb"
   ]
  },
  {
   "cell_type": "code",
   "execution_count": 17,
   "metadata": {},
   "outputs": [
    {
     "output_type": "execute_result",
     "data": {
      "text/plain": [
       "         continent     location  ... female_smokers male_smokers\n",
       "AFG           Asia  Afghanistan  ...            NaN          NaN\n",
       "ALB         Europe      Albania  ...            7.1         51.2\n",
       "DZA         Africa      Algeria  ...            0.7         30.4\n",
       "AND         Europe      Andorra  ...             29         37.8\n",
       "AGO         Africa       Angola  ...            NaN          NaN\n",
       "...            ...          ...  ...            ...          ...\n",
       "VNM           Asia      Vietnam  ...              1         45.9\n",
       "OWID_WRL       NaN        World  ...          6.434       34.635\n",
       "YEM           Asia        Yemen  ...            7.6         29.2\n",
       "ZMB         Africa       Zambia  ...            3.1         24.7\n",
       "ZWE         Africa     Zimbabwe  ...            1.6         30.7\n",
       "\n",
       "[191 rows x 18 columns]"
      ],
      "text/html": "<div>\n<style scoped>\n    .dataframe tbody tr th:only-of-type {\n        vertical-align: middle;\n    }\n\n    .dataframe tbody tr th {\n        vertical-align: top;\n    }\n\n    .dataframe thead th {\n        text-align: right;\n    }\n</style>\n<table border=\"1\" class=\"dataframe\">\n  <thead>\n    <tr style=\"text-align: right;\">\n      <th></th>\n      <th>continent</th>\n      <th>location</th>\n      <th>population</th>\n      <th>population_density</th>\n      <th>median_age</th>\n      <th>aged_65_older</th>\n      <th>aged_70_older</th>\n      <th>gdp_per_capita</th>\n      <th>cardiovasc_death_rate</th>\n      <th>diabetes_prevalence</th>\n      <th>handwashing_facilities</th>\n      <th>hospital_beds_per_thousand</th>\n      <th>life_expectancy</th>\n      <th>human_development_index</th>\n      <th>data</th>\n      <th>extreme_poverty</th>\n      <th>female_smokers</th>\n      <th>male_smokers</th>\n    </tr>\n  </thead>\n  <tbody>\n    <tr>\n      <th>AFG</th>\n      <td>Asia</td>\n      <td>Afghanistan</td>\n      <td>3.89283e+07</td>\n      <td>54.422</td>\n      <td>18.6</td>\n      <td>2.581</td>\n      <td>1.337</td>\n      <td>1803.99</td>\n      <td>597.029</td>\n      <td>9.59</td>\n      <td>37.746</td>\n      <td>0.5</td>\n      <td>64.83</td>\n      <td>0.498</td>\n      <td>[{'date': '2020-02-24', 'total_cases': 1.0, 'n...</td>\n      <td>NaN</td>\n      <td>NaN</td>\n      <td>NaN</td>\n    </tr>\n    <tr>\n      <th>ALB</th>\n      <td>Europe</td>\n      <td>Albania</td>\n      <td>2.8778e+06</td>\n      <td>104.871</td>\n      <td>38</td>\n      <td>13.188</td>\n      <td>8.643</td>\n      <td>11803.4</td>\n      <td>304.195</td>\n      <td>10.08</td>\n      <td>NaN</td>\n      <td>2.89</td>\n      <td>78.57</td>\n      <td>0.785</td>\n      <td>[{'date': '2020-03-09', 'total_cases': 2.0, 'n...</td>\n      <td>1.1</td>\n      <td>7.1</td>\n      <td>51.2</td>\n    </tr>\n    <tr>\n      <th>DZA</th>\n      <td>Africa</td>\n      <td>Algeria</td>\n      <td>4.3851e+07</td>\n      <td>17.348</td>\n      <td>29.1</td>\n      <td>6.211</td>\n      <td>3.857</td>\n      <td>13913.8</td>\n      <td>278.364</td>\n      <td>6.73</td>\n      <td>83.741</td>\n      <td>1.9</td>\n      <td>76.88</td>\n      <td>0.754</td>\n      <td>[{'date': '2020-02-25', 'total_cases': 1.0, 'n...</td>\n      <td>0.5</td>\n      <td>0.7</td>\n      <td>30.4</td>\n    </tr>\n    <tr>\n      <th>AND</th>\n      <td>Europe</td>\n      <td>Andorra</td>\n      <td>77265</td>\n      <td>163.755</td>\n      <td>NaN</td>\n      <td>NaN</td>\n      <td>NaN</td>\n      <td>NaN</td>\n      <td>109.135</td>\n      <td>7.97</td>\n      <td>NaN</td>\n      <td>NaN</td>\n      <td>83.73</td>\n      <td>0.858</td>\n      <td>[{'date': '2020-03-02', 'total_cases': 1.0, 'n...</td>\n      <td>NaN</td>\n      <td>29</td>\n      <td>37.8</td>\n    </tr>\n    <tr>\n      <th>AGO</th>\n      <td>Africa</td>\n      <td>Angola</td>\n      <td>3.28663e+07</td>\n      <td>23.89</td>\n      <td>16.8</td>\n      <td>2.405</td>\n      <td>1.362</td>\n      <td>5819.49</td>\n      <td>276.045</td>\n      <td>3.94</td>\n      <td>26.664</td>\n      <td>NaN</td>\n      <td>61.15</td>\n      <td>0.581</td>\n      <td>[{'date': '2020-03-20', 'total_cases': 1.0, 'n...</td>\n      <td>NaN</td>\n      <td>NaN</td>\n      <td>NaN</td>\n    </tr>\n    <tr>\n      <th>...</th>\n      <td>...</td>\n      <td>...</td>\n      <td>...</td>\n      <td>...</td>\n      <td>...</td>\n      <td>...</td>\n      <td>...</td>\n      <td>...</td>\n      <td>...</td>\n      <td>...</td>\n      <td>...</td>\n      <td>...</td>\n      <td>...</td>\n      <td>...</td>\n      <td>...</td>\n      <td>...</td>\n      <td>...</td>\n      <td>...</td>\n    </tr>\n    <tr>\n      <th>VNM</th>\n      <td>Asia</td>\n      <td>Vietnam</td>\n      <td>9.73386e+07</td>\n      <td>308.127</td>\n      <td>32.6</td>\n      <td>7.15</td>\n      <td>4.718</td>\n      <td>6171.88</td>\n      <td>245.465</td>\n      <td>6</td>\n      <td>85.847</td>\n      <td>2.6</td>\n      <td>75.4</td>\n      <td>0.694</td>\n      <td>[{'date': '2020-01-23', 'total_cases': 2.0, 'n...</td>\n      <td>2</td>\n      <td>1</td>\n      <td>45.9</td>\n    </tr>\n    <tr>\n      <th>OWID_WRL</th>\n      <td>NaN</td>\n      <td>World</td>\n      <td>7.7948e+09</td>\n      <td>58.045</td>\n      <td>30.9</td>\n      <td>8.696</td>\n      <td>5.355</td>\n      <td>15469.2</td>\n      <td>233.07</td>\n      <td>8.51</td>\n      <td>60.13</td>\n      <td>2.705</td>\n      <td>72.58</td>\n      <td>NaN</td>\n      <td>[{'date': '2020-01-22', 'total_cases': 557.0, ...</td>\n      <td>10</td>\n      <td>6.434</td>\n      <td>34.635</td>\n    </tr>\n    <tr>\n      <th>YEM</th>\n      <td>Asia</td>\n      <td>Yemen</td>\n      <td>2.9826e+07</td>\n      <td>53.508</td>\n      <td>20.3</td>\n      <td>2.922</td>\n      <td>1.583</td>\n      <td>1479.15</td>\n      <td>495.003</td>\n      <td>5.35</td>\n      <td>49.542</td>\n      <td>0.7</td>\n      <td>66.12</td>\n      <td>0.452</td>\n      <td>[{'date': '2020-04-10', 'total_cases': 1.0, 'n...</td>\n      <td>18.8</td>\n      <td>7.6</td>\n      <td>29.2</td>\n    </tr>\n    <tr>\n      <th>ZMB</th>\n      <td>Africa</td>\n      <td>Zambia</td>\n      <td>1.8384e+07</td>\n      <td>22.995</td>\n      <td>17.7</td>\n      <td>2.48</td>\n      <td>1.542</td>\n      <td>3689.25</td>\n      <td>234.499</td>\n      <td>3.94</td>\n      <td>13.938</td>\n      <td>2</td>\n      <td>63.89</td>\n      <td>0.588</td>\n      <td>[{'date': '2020-03-18', 'total_cases': 2.0, 'n...</td>\n      <td>57.5</td>\n      <td>3.1</td>\n      <td>24.7</td>\n    </tr>\n    <tr>\n      <th>ZWE</th>\n      <td>Africa</td>\n      <td>Zimbabwe</td>\n      <td>1.48629e+07</td>\n      <td>42.729</td>\n      <td>19.6</td>\n      <td>2.822</td>\n      <td>1.882</td>\n      <td>1899.78</td>\n      <td>307.846</td>\n      <td>1.82</td>\n      <td>36.791</td>\n      <td>1.7</td>\n      <td>61.49</td>\n      <td>0.535</td>\n      <td>[{'date': '2020-03-20', 'total_cases': 1.0, 'n...</td>\n      <td>21.4</td>\n      <td>1.6</td>\n      <td>30.7</td>\n    </tr>\n  </tbody>\n</table>\n<p>191 rows × 18 columns</p>\n</div>"
     },
     "metadata": {},
     "execution_count": 17
    }
   ],
   "source": [
    "covid = jsonlink_df('https://covid.ourworldindata.org/data/owid-covid-data.json').T\n",
    "covid"
   ]
  },
  {
   "cell_type": "code",
   "execution_count": 18,
   "metadata": {},
   "outputs": [
    {
     "output_type": "execute_result",
     "data": {
      "text/plain": [
       "         continent   location  ... female_smokers male_smokers\n",
       "ARG  South America  Argentina  ...           16.2         27.7\n",
       "CHL  South America      Chile  ...           34.2         41.5\n",
       "COL  South America   Colombia  ...            4.7         13.5\n",
       "RUS         Europe     Russia  ...           23.4         58.3\n",
       "ESP         Europe      Spain  ...           27.4         31.4\n",
       "\n",
       "[5 rows x 18 columns]"
      ],
      "text/html": "<div>\n<style scoped>\n    .dataframe tbody tr th:only-of-type {\n        vertical-align: middle;\n    }\n\n    .dataframe tbody tr th {\n        vertical-align: top;\n    }\n\n    .dataframe thead th {\n        text-align: right;\n    }\n</style>\n<table border=\"1\" class=\"dataframe\">\n  <thead>\n    <tr style=\"text-align: right;\">\n      <th></th>\n      <th>continent</th>\n      <th>location</th>\n      <th>population</th>\n      <th>population_density</th>\n      <th>median_age</th>\n      <th>aged_65_older</th>\n      <th>aged_70_older</th>\n      <th>gdp_per_capita</th>\n      <th>cardiovasc_death_rate</th>\n      <th>diabetes_prevalence</th>\n      <th>handwashing_facilities</th>\n      <th>hospital_beds_per_thousand</th>\n      <th>life_expectancy</th>\n      <th>human_development_index</th>\n      <th>data</th>\n      <th>extreme_poverty</th>\n      <th>female_smokers</th>\n      <th>male_smokers</th>\n    </tr>\n  </thead>\n  <tbody>\n    <tr>\n      <th>ARG</th>\n      <td>South America</td>\n      <td>Argentina</td>\n      <td>4.51958e+07</td>\n      <td>16.177</td>\n      <td>31.9</td>\n      <td>11.198</td>\n      <td>7.441</td>\n      <td>18933.9</td>\n      <td>191.032</td>\n      <td>5.5</td>\n      <td>NaN</td>\n      <td>5</td>\n      <td>76.67</td>\n      <td>0.825</td>\n      <td>[{'date': '2020-01-01', 'total_tests': 4.0, 'n...</td>\n      <td>0.6</td>\n      <td>16.2</td>\n      <td>27.7</td>\n    </tr>\n    <tr>\n      <th>CHL</th>\n      <td>South America</td>\n      <td>Chile</td>\n      <td>1.91162e+07</td>\n      <td>24.282</td>\n      <td>35.4</td>\n      <td>11.087</td>\n      <td>6.938</td>\n      <td>22767</td>\n      <td>127.993</td>\n      <td>8.46</td>\n      <td>NaN</td>\n      <td>2.11</td>\n      <td>80.18</td>\n      <td>0.843</td>\n      <td>[{'date': '2020-02-23', 'total_cases': 2.0, 'n...</td>\n      <td>1.3</td>\n      <td>34.2</td>\n      <td>41.5</td>\n    </tr>\n    <tr>\n      <th>COL</th>\n      <td>South America</td>\n      <td>Colombia</td>\n      <td>5.08829e+07</td>\n      <td>44.223</td>\n      <td>32.2</td>\n      <td>7.646</td>\n      <td>4.312</td>\n      <td>13254.9</td>\n      <td>124.24</td>\n      <td>7.44</td>\n      <td>65.386</td>\n      <td>1.71</td>\n      <td>77.29</td>\n      <td>0.747</td>\n      <td>[{'date': '2020-03-06', 'total_cases': 1.0, 'n...</td>\n      <td>4.5</td>\n      <td>4.7</td>\n      <td>13.5</td>\n    </tr>\n    <tr>\n      <th>RUS</th>\n      <td>Europe</td>\n      <td>Russia</td>\n      <td>1.45934e+08</td>\n      <td>8.823</td>\n      <td>39.6</td>\n      <td>14.178</td>\n      <td>9.393</td>\n      <td>24766</td>\n      <td>431.297</td>\n      <td>6.18</td>\n      <td>NaN</td>\n      <td>8.05</td>\n      <td>72.58</td>\n      <td>0.816</td>\n      <td>[{'date': '2020-01-31', 'total_cases': 2.0, 'n...</td>\n      <td>0.1</td>\n      <td>23.4</td>\n      <td>58.3</td>\n    </tr>\n    <tr>\n      <th>ESP</th>\n      <td>Europe</td>\n      <td>Spain</td>\n      <td>4.67548e+07</td>\n      <td>93.105</td>\n      <td>45.5</td>\n      <td>19.436</td>\n      <td>13.799</td>\n      <td>34272.4</td>\n      <td>99.403</td>\n      <td>7.17</td>\n      <td>NaN</td>\n      <td>2.97</td>\n      <td>83.56</td>\n      <td>0.891</td>\n      <td>[{'date': '2020-02-01', 'total_cases': 1.0, 'n...</td>\n      <td>1</td>\n      <td>27.4</td>\n      <td>31.4</td>\n    </tr>\n  </tbody>\n</table>\n</div>"
     },
     "metadata": {},
     "execution_count": 18
    }
   ],
   "source": [
    "covid=filter_df(covid,'location','Argentina','Russia', 'Colombia', 'Chile', 'Spain')\n",
    "covid"
   ]
  },
  {
   "cell_type": "code",
   "execution_count": 9,
   "metadata": {},
   "outputs": [
    {
     "output_type": "execute_result",
     "data": {
      "text/plain": [
       "           date  total_tests  new_tests  total_tests_per_thousand  \\\n",
       "0    2020-01-01          4.0        4.0                     0.000   \n",
       "1    2020-01-02         14.0       10.0                     0.000   \n",
       "2    2020-01-03         19.0        5.0                     0.000   \n",
       "3    2020-01-04         31.0       12.0                     0.001   \n",
       "4    2020-01-05         41.0       10.0                     0.001   \n",
       "..          ...          ...        ...                       ...   \n",
       "348  2021-01-14          NaN        NaN                       NaN   \n",
       "349  2021-01-15          NaN        NaN                       NaN   \n",
       "350  2021-01-16          NaN        NaN                       NaN   \n",
       "351  2021-01-17          NaN        NaN                       NaN   \n",
       "352  2021-01-18          NaN        NaN                       NaN   \n",
       "\n",
       "     new_tests_per_thousand    tests_units  stringency_index  \\\n",
       "0                       0.0  people tested               0.0   \n",
       "1                       0.0  people tested               0.0   \n",
       "2                       0.0  people tested               0.0   \n",
       "3                       0.0  people tested               0.0   \n",
       "4                       0.0  people tested               0.0   \n",
       "..                      ...            ...               ...   \n",
       "348                     NaN            NaN              71.3   \n",
       "349                     NaN            NaN              71.3   \n",
       "350                     NaN            NaN              71.3   \n",
       "351                     NaN            NaN              71.3   \n",
       "352                     NaN            NaN               NaN   \n",
       "\n",
       "     new_tests_smoothed  new_tests_smoothed_per_thousand  total_cases  ...  \\\n",
       "0                   NaN                              NaN          NaN  ...   \n",
       "1                   NaN                              NaN          NaN  ...   \n",
       "2                   NaN                              NaN          NaN  ...   \n",
       "3                   NaN                              NaN          NaN  ...   \n",
       "4                   NaN                              NaN          NaN  ...   \n",
       "..                  ...                              ...          ...  ...   \n",
       "348                 NaN                              NaN    2211967.0  ...   \n",
       "349                 NaN                              NaN    2252164.0  ...   \n",
       "350                 NaN                              NaN    2252164.0  ...   \n",
       "351                 NaN                              NaN    2252164.0  ...   \n",
       "352                 NaN                              NaN    2336451.0  ...   \n",
       "\n",
       "     new_vaccinations_smoothed_per_million  new_vaccinations  \\\n",
       "0                                      NaN               NaN   \n",
       "1                                      NaN               NaN   \n",
       "2                                      NaN               NaN   \n",
       "3                                      NaN               NaN   \n",
       "4                                      NaN               NaN   \n",
       "..                                     ...               ...   \n",
       "348                                 1433.0           94548.0   \n",
       "349                                 1500.0           92764.0   \n",
       "350                                 1501.0               NaN   \n",
       "351                                 1502.0               NaN   \n",
       "352                                 1503.0               NaN   \n",
       "\n",
       "     weekly_icu_admissions  weekly_icu_admissions_per_million  \\\n",
       "0                      NaN                                NaN   \n",
       "1                      NaN                                NaN   \n",
       "2                      NaN                                NaN   \n",
       "3                      NaN                                NaN   \n",
       "4                      NaN                                NaN   \n",
       "..                     ...                                ...   \n",
       "348                    NaN                                NaN   \n",
       "349                    NaN                                NaN   \n",
       "350                    NaN                                NaN   \n",
       "351                    NaN                                NaN   \n",
       "352                    NaN                                NaN   \n",
       "\n",
       "     weekly_hosp_admissions  weekly_hosp_admissions_per_million  icu_patients  \\\n",
       "0                       NaN                                 NaN           NaN   \n",
       "1                       NaN                                 NaN           NaN   \n",
       "2                       NaN                                 NaN           NaN   \n",
       "3                       NaN                                 NaN           NaN   \n",
       "4                       NaN                                 NaN           NaN   \n",
       "..                      ...                                 ...           ...   \n",
       "348                     NaN                                 NaN           NaN   \n",
       "349                     NaN                                 NaN           NaN   \n",
       "350                     NaN                                 NaN           NaN   \n",
       "351                     NaN                                 NaN           NaN   \n",
       "352                     NaN                                 NaN           NaN   \n",
       "\n",
       "     icu_patients_per_million  hosp_patients  hosp_patients_per_million  \n",
       "0                         NaN            NaN                        NaN  \n",
       "1                         NaN            NaN                        NaN  \n",
       "2                         NaN            NaN                        NaN  \n",
       "3                         NaN            NaN                        NaN  \n",
       "4                         NaN            NaN                        NaN  \n",
       "..                        ...            ...                        ...  \n",
       "348                       NaN            NaN                        NaN  \n",
       "349                       NaN            NaN                        NaN  \n",
       "350                       NaN            NaN                        NaN  \n",
       "351                       NaN            NaN                        NaN  \n",
       "352                       NaN            NaN                        NaN  \n",
       "\n",
       "[1741 rows x 37 columns]"
      ],
      "text/html": "<div>\n<style scoped>\n    .dataframe tbody tr th:only-of-type {\n        vertical-align: middle;\n    }\n\n    .dataframe tbody tr th {\n        vertical-align: top;\n    }\n\n    .dataframe thead th {\n        text-align: right;\n    }\n</style>\n<table border=\"1\" class=\"dataframe\">\n  <thead>\n    <tr style=\"text-align: right;\">\n      <th></th>\n      <th>date</th>\n      <th>total_tests</th>\n      <th>new_tests</th>\n      <th>total_tests_per_thousand</th>\n      <th>new_tests_per_thousand</th>\n      <th>tests_units</th>\n      <th>stringency_index</th>\n      <th>new_tests_smoothed</th>\n      <th>new_tests_smoothed_per_thousand</th>\n      <th>total_cases</th>\n      <th>...</th>\n      <th>new_vaccinations_smoothed_per_million</th>\n      <th>new_vaccinations</th>\n      <th>weekly_icu_admissions</th>\n      <th>weekly_icu_admissions_per_million</th>\n      <th>weekly_hosp_admissions</th>\n      <th>weekly_hosp_admissions_per_million</th>\n      <th>icu_patients</th>\n      <th>icu_patients_per_million</th>\n      <th>hosp_patients</th>\n      <th>hosp_patients_per_million</th>\n    </tr>\n  </thead>\n  <tbody>\n    <tr>\n      <th>0</th>\n      <td>2020-01-01</td>\n      <td>4.0</td>\n      <td>4.0</td>\n      <td>0.000</td>\n      <td>0.0</td>\n      <td>people tested</td>\n      <td>0.0</td>\n      <td>NaN</td>\n      <td>NaN</td>\n      <td>NaN</td>\n      <td>...</td>\n      <td>NaN</td>\n      <td>NaN</td>\n      <td>NaN</td>\n      <td>NaN</td>\n      <td>NaN</td>\n      <td>NaN</td>\n      <td>NaN</td>\n      <td>NaN</td>\n      <td>NaN</td>\n      <td>NaN</td>\n    </tr>\n    <tr>\n      <th>1</th>\n      <td>2020-01-02</td>\n      <td>14.0</td>\n      <td>10.0</td>\n      <td>0.000</td>\n      <td>0.0</td>\n      <td>people tested</td>\n      <td>0.0</td>\n      <td>NaN</td>\n      <td>NaN</td>\n      <td>NaN</td>\n      <td>...</td>\n      <td>NaN</td>\n      <td>NaN</td>\n      <td>NaN</td>\n      <td>NaN</td>\n      <td>NaN</td>\n      <td>NaN</td>\n      <td>NaN</td>\n      <td>NaN</td>\n      <td>NaN</td>\n      <td>NaN</td>\n    </tr>\n    <tr>\n      <th>2</th>\n      <td>2020-01-03</td>\n      <td>19.0</td>\n      <td>5.0</td>\n      <td>0.000</td>\n      <td>0.0</td>\n      <td>people tested</td>\n      <td>0.0</td>\n      <td>NaN</td>\n      <td>NaN</td>\n      <td>NaN</td>\n      <td>...</td>\n      <td>NaN</td>\n      <td>NaN</td>\n      <td>NaN</td>\n      <td>NaN</td>\n      <td>NaN</td>\n      <td>NaN</td>\n      <td>NaN</td>\n      <td>NaN</td>\n      <td>NaN</td>\n      <td>NaN</td>\n    </tr>\n    <tr>\n      <th>3</th>\n      <td>2020-01-04</td>\n      <td>31.0</td>\n      <td>12.0</td>\n      <td>0.001</td>\n      <td>0.0</td>\n      <td>people tested</td>\n      <td>0.0</td>\n      <td>NaN</td>\n      <td>NaN</td>\n      <td>NaN</td>\n      <td>...</td>\n      <td>NaN</td>\n      <td>NaN</td>\n      <td>NaN</td>\n      <td>NaN</td>\n      <td>NaN</td>\n      <td>NaN</td>\n      <td>NaN</td>\n      <td>NaN</td>\n      <td>NaN</td>\n      <td>NaN</td>\n    </tr>\n    <tr>\n      <th>4</th>\n      <td>2020-01-05</td>\n      <td>41.0</td>\n      <td>10.0</td>\n      <td>0.001</td>\n      <td>0.0</td>\n      <td>people tested</td>\n      <td>0.0</td>\n      <td>NaN</td>\n      <td>NaN</td>\n      <td>NaN</td>\n      <td>...</td>\n      <td>NaN</td>\n      <td>NaN</td>\n      <td>NaN</td>\n      <td>NaN</td>\n      <td>NaN</td>\n      <td>NaN</td>\n      <td>NaN</td>\n      <td>NaN</td>\n      <td>NaN</td>\n      <td>NaN</td>\n    </tr>\n    <tr>\n      <th>...</th>\n      <td>...</td>\n      <td>...</td>\n      <td>...</td>\n      <td>...</td>\n      <td>...</td>\n      <td>...</td>\n      <td>...</td>\n      <td>...</td>\n      <td>...</td>\n      <td>...</td>\n      <td>...</td>\n      <td>...</td>\n      <td>...</td>\n      <td>...</td>\n      <td>...</td>\n      <td>...</td>\n      <td>...</td>\n      <td>...</td>\n      <td>...</td>\n      <td>...</td>\n      <td>...</td>\n    </tr>\n    <tr>\n      <th>348</th>\n      <td>2021-01-14</td>\n      <td>NaN</td>\n      <td>NaN</td>\n      <td>NaN</td>\n      <td>NaN</td>\n      <td>NaN</td>\n      <td>71.3</td>\n      <td>NaN</td>\n      <td>NaN</td>\n      <td>2211967.0</td>\n      <td>...</td>\n      <td>1433.0</td>\n      <td>94548.0</td>\n      <td>NaN</td>\n      <td>NaN</td>\n      <td>NaN</td>\n      <td>NaN</td>\n      <td>NaN</td>\n      <td>NaN</td>\n      <td>NaN</td>\n      <td>NaN</td>\n    </tr>\n    <tr>\n      <th>349</th>\n      <td>2021-01-15</td>\n      <td>NaN</td>\n      <td>NaN</td>\n      <td>NaN</td>\n      <td>NaN</td>\n      <td>NaN</td>\n      <td>71.3</td>\n      <td>NaN</td>\n      <td>NaN</td>\n      <td>2252164.0</td>\n      <td>...</td>\n      <td>1500.0</td>\n      <td>92764.0</td>\n      <td>NaN</td>\n      <td>NaN</td>\n      <td>NaN</td>\n      <td>NaN</td>\n      <td>NaN</td>\n      <td>NaN</td>\n      <td>NaN</td>\n      <td>NaN</td>\n    </tr>\n    <tr>\n      <th>350</th>\n      <td>2021-01-16</td>\n      <td>NaN</td>\n      <td>NaN</td>\n      <td>NaN</td>\n      <td>NaN</td>\n      <td>NaN</td>\n      <td>71.3</td>\n      <td>NaN</td>\n      <td>NaN</td>\n      <td>2252164.0</td>\n      <td>...</td>\n      <td>1501.0</td>\n      <td>NaN</td>\n      <td>NaN</td>\n      <td>NaN</td>\n      <td>NaN</td>\n      <td>NaN</td>\n      <td>NaN</td>\n      <td>NaN</td>\n      <td>NaN</td>\n      <td>NaN</td>\n    </tr>\n    <tr>\n      <th>351</th>\n      <td>2021-01-17</td>\n      <td>NaN</td>\n      <td>NaN</td>\n      <td>NaN</td>\n      <td>NaN</td>\n      <td>NaN</td>\n      <td>71.3</td>\n      <td>NaN</td>\n      <td>NaN</td>\n      <td>2252164.0</td>\n      <td>...</td>\n      <td>1502.0</td>\n      <td>NaN</td>\n      <td>NaN</td>\n      <td>NaN</td>\n      <td>NaN</td>\n      <td>NaN</td>\n      <td>NaN</td>\n      <td>NaN</td>\n      <td>NaN</td>\n      <td>NaN</td>\n    </tr>\n    <tr>\n      <th>352</th>\n      <td>2021-01-18</td>\n      <td>NaN</td>\n      <td>NaN</td>\n      <td>NaN</td>\n      <td>NaN</td>\n      <td>NaN</td>\n      <td>NaN</td>\n      <td>NaN</td>\n      <td>NaN</td>\n      <td>2336451.0</td>\n      <td>...</td>\n      <td>1503.0</td>\n      <td>NaN</td>\n      <td>NaN</td>\n      <td>NaN</td>\n      <td>NaN</td>\n      <td>NaN</td>\n      <td>NaN</td>\n      <td>NaN</td>\n      <td>NaN</td>\n      <td>NaN</td>\n    </tr>\n  </tbody>\n</table>\n<p>1741 rows × 37 columns</p>\n</div>"
     },
     "metadata": {},
     "execution_count": 9
    }
   ],
   "source": [
    "data_covid = covid.loc[:, ['data']]\n",
    "data_covid = extract_dict_values(df_name=data_covid, column_df='data')\n",
    "data_covid"
   ]
  },
  {
   "cell_type": "code",
   "execution_count": 19,
   "metadata": {},
   "outputs": [
    {
     "output_type": "execute_result",
     "data": {
      "text/plain": [
       "          continent  ... data.hosp_patients_per_million\n",
       "0     South America  ...                            NaN\n",
       "1     South America  ...                            NaN\n",
       "2     South America  ...                            NaN\n",
       "3     South America  ...                            NaN\n",
       "4     South America  ...                            NaN\n",
       "...             ...  ...                            ...\n",
       "1736         Europe  ...                            NaN\n",
       "1737         Europe  ...                            NaN\n",
       "1738         Europe  ...                            NaN\n",
       "1739         Europe  ...                            NaN\n",
       "1740         Europe  ...                            NaN\n",
       "\n",
       "[1741 rows x 54 columns]"
      ],
      "text/html": "<div>\n<style scoped>\n    .dataframe tbody tr th:only-of-type {\n        vertical-align: middle;\n    }\n\n    .dataframe tbody tr th {\n        vertical-align: top;\n    }\n\n    .dataframe thead th {\n        text-align: right;\n    }\n</style>\n<table border=\"1\" class=\"dataframe\">\n  <thead>\n    <tr style=\"text-align: right;\">\n      <th></th>\n      <th>continent</th>\n      <th>location</th>\n      <th>population</th>\n      <th>population_density</th>\n      <th>median_age</th>\n      <th>aged_65_older</th>\n      <th>aged_70_older</th>\n      <th>gdp_per_capita</th>\n      <th>cardiovasc_death_rate</th>\n      <th>diabetes_prevalence</th>\n      <th>handwashing_facilities</th>\n      <th>hospital_beds_per_thousand</th>\n      <th>life_expectancy</th>\n      <th>human_development_index</th>\n      <th>extreme_poverty</th>\n      <th>female_smokers</th>\n      <th>male_smokers</th>\n      <th>data.date</th>\n      <th>data.total_tests</th>\n      <th>data.new_tests</th>\n      <th>data.total_tests_per_thousand</th>\n      <th>data.new_tests_per_thousand</th>\n      <th>data.tests_units</th>\n      <th>data.stringency_index</th>\n      <th>data.new_tests_smoothed</th>\n      <th>data.new_tests_smoothed_per_thousand</th>\n      <th>data.total_cases</th>\n      <th>data.new_cases</th>\n      <th>data.total_cases_per_million</th>\n      <th>data.new_cases_per_million</th>\n      <th>data.new_cases_smoothed</th>\n      <th>data.total_deaths</th>\n      <th>data.new_deaths</th>\n      <th>data.new_deaths_smoothed</th>\n      <th>data.new_cases_smoothed_per_million</th>\n      <th>data.total_deaths_per_million</th>\n      <th>data.new_deaths_per_million</th>\n      <th>data.new_deaths_smoothed_per_million</th>\n      <th>data.positive_rate</th>\n      <th>data.tests_per_case</th>\n      <th>data.reproduction_rate</th>\n      <th>data.total_vaccinations</th>\n      <th>data.total_vaccinations_per_hundred</th>\n      <th>data.new_vaccinations_smoothed</th>\n      <th>data.new_vaccinations_smoothed_per_million</th>\n      <th>data.new_vaccinations</th>\n      <th>data.weekly_icu_admissions</th>\n      <th>data.weekly_icu_admissions_per_million</th>\n      <th>data.weekly_hosp_admissions</th>\n      <th>data.weekly_hosp_admissions_per_million</th>\n      <th>data.icu_patients</th>\n      <th>data.icu_patients_per_million</th>\n      <th>data.hosp_patients</th>\n      <th>data.hosp_patients_per_million</th>\n    </tr>\n  </thead>\n  <tbody>\n    <tr>\n      <th>0</th>\n      <td>South America</td>\n      <td>Argentina</td>\n      <td>45195777.0</td>\n      <td>16.177</td>\n      <td>31.9</td>\n      <td>11.198</td>\n      <td>7.441</td>\n      <td>18933.907</td>\n      <td>191.032</td>\n      <td>5.50</td>\n      <td>NaN</td>\n      <td>5.00</td>\n      <td>76.67</td>\n      <td>0.825</td>\n      <td>0.6</td>\n      <td>16.2</td>\n      <td>27.7</td>\n      <td>2020-01-01</td>\n      <td>4.0</td>\n      <td>4.0</td>\n      <td>0.000</td>\n      <td>0.0</td>\n      <td>people tested</td>\n      <td>0.0</td>\n      <td>NaN</td>\n      <td>NaN</td>\n      <td>NaN</td>\n      <td>NaN</td>\n      <td>NaN</td>\n      <td>NaN</td>\n      <td>NaN</td>\n      <td>NaN</td>\n      <td>NaN</td>\n      <td>NaN</td>\n      <td>NaN</td>\n      <td>NaN</td>\n      <td>NaN</td>\n      <td>NaN</td>\n      <td>NaN</td>\n      <td>NaN</td>\n      <td>NaN</td>\n      <td>NaN</td>\n      <td>NaN</td>\n      <td>NaN</td>\n      <td>NaN</td>\n      <td>NaN</td>\n      <td>NaN</td>\n      <td>NaN</td>\n      <td>NaN</td>\n      <td>NaN</td>\n      <td>NaN</td>\n      <td>NaN</td>\n      <td>NaN</td>\n      <td>NaN</td>\n    </tr>\n    <tr>\n      <th>1</th>\n      <td>South America</td>\n      <td>Argentina</td>\n      <td>45195777.0</td>\n      <td>16.177</td>\n      <td>31.9</td>\n      <td>11.198</td>\n      <td>7.441</td>\n      <td>18933.907</td>\n      <td>191.032</td>\n      <td>5.50</td>\n      <td>NaN</td>\n      <td>5.00</td>\n      <td>76.67</td>\n      <td>0.825</td>\n      <td>0.6</td>\n      <td>16.2</td>\n      <td>27.7</td>\n      <td>2020-01-02</td>\n      <td>14.0</td>\n      <td>10.0</td>\n      <td>0.000</td>\n      <td>0.0</td>\n      <td>people tested</td>\n      <td>0.0</td>\n      <td>NaN</td>\n      <td>NaN</td>\n      <td>NaN</td>\n      <td>NaN</td>\n      <td>NaN</td>\n      <td>NaN</td>\n      <td>NaN</td>\n      <td>NaN</td>\n      <td>NaN</td>\n      <td>NaN</td>\n      <td>NaN</td>\n      <td>NaN</td>\n      <td>NaN</td>\n      <td>NaN</td>\n      <td>NaN</td>\n      <td>NaN</td>\n      <td>NaN</td>\n      <td>NaN</td>\n      <td>NaN</td>\n      <td>NaN</td>\n      <td>NaN</td>\n      <td>NaN</td>\n      <td>NaN</td>\n      <td>NaN</td>\n      <td>NaN</td>\n      <td>NaN</td>\n      <td>NaN</td>\n      <td>NaN</td>\n      <td>NaN</td>\n      <td>NaN</td>\n    </tr>\n    <tr>\n      <th>2</th>\n      <td>South America</td>\n      <td>Argentina</td>\n      <td>45195777.0</td>\n      <td>16.177</td>\n      <td>31.9</td>\n      <td>11.198</td>\n      <td>7.441</td>\n      <td>18933.907</td>\n      <td>191.032</td>\n      <td>5.50</td>\n      <td>NaN</td>\n      <td>5.00</td>\n      <td>76.67</td>\n      <td>0.825</td>\n      <td>0.6</td>\n      <td>16.2</td>\n      <td>27.7</td>\n      <td>2020-01-03</td>\n      <td>19.0</td>\n      <td>5.0</td>\n      <td>0.000</td>\n      <td>0.0</td>\n      <td>people tested</td>\n      <td>0.0</td>\n      <td>NaN</td>\n      <td>NaN</td>\n      <td>NaN</td>\n      <td>NaN</td>\n      <td>NaN</td>\n      <td>NaN</td>\n      <td>NaN</td>\n      <td>NaN</td>\n      <td>NaN</td>\n      <td>NaN</td>\n      <td>NaN</td>\n      <td>NaN</td>\n      <td>NaN</td>\n      <td>NaN</td>\n      <td>NaN</td>\n      <td>NaN</td>\n      <td>NaN</td>\n      <td>NaN</td>\n      <td>NaN</td>\n      <td>NaN</td>\n      <td>NaN</td>\n      <td>NaN</td>\n      <td>NaN</td>\n      <td>NaN</td>\n      <td>NaN</td>\n      <td>NaN</td>\n      <td>NaN</td>\n      <td>NaN</td>\n      <td>NaN</td>\n      <td>NaN</td>\n    </tr>\n    <tr>\n      <th>3</th>\n      <td>South America</td>\n      <td>Argentina</td>\n      <td>45195777.0</td>\n      <td>16.177</td>\n      <td>31.9</td>\n      <td>11.198</td>\n      <td>7.441</td>\n      <td>18933.907</td>\n      <td>191.032</td>\n      <td>5.50</td>\n      <td>NaN</td>\n      <td>5.00</td>\n      <td>76.67</td>\n      <td>0.825</td>\n      <td>0.6</td>\n      <td>16.2</td>\n      <td>27.7</td>\n      <td>2020-01-04</td>\n      <td>31.0</td>\n      <td>12.0</td>\n      <td>0.001</td>\n      <td>0.0</td>\n      <td>people tested</td>\n      <td>0.0</td>\n      <td>NaN</td>\n      <td>NaN</td>\n      <td>NaN</td>\n      <td>NaN</td>\n      <td>NaN</td>\n      <td>NaN</td>\n      <td>NaN</td>\n      <td>NaN</td>\n      <td>NaN</td>\n      <td>NaN</td>\n      <td>NaN</td>\n      <td>NaN</td>\n      <td>NaN</td>\n      <td>NaN</td>\n      <td>NaN</td>\n      <td>NaN</td>\n      <td>NaN</td>\n      <td>NaN</td>\n      <td>NaN</td>\n      <td>NaN</td>\n      <td>NaN</td>\n      <td>NaN</td>\n      <td>NaN</td>\n      <td>NaN</td>\n      <td>NaN</td>\n      <td>NaN</td>\n      <td>NaN</td>\n      <td>NaN</td>\n      <td>NaN</td>\n      <td>NaN</td>\n    </tr>\n    <tr>\n      <th>4</th>\n      <td>South America</td>\n      <td>Argentina</td>\n      <td>45195777.0</td>\n      <td>16.177</td>\n      <td>31.9</td>\n      <td>11.198</td>\n      <td>7.441</td>\n      <td>18933.907</td>\n      <td>191.032</td>\n      <td>5.50</td>\n      <td>NaN</td>\n      <td>5.00</td>\n      <td>76.67</td>\n      <td>0.825</td>\n      <td>0.6</td>\n      <td>16.2</td>\n      <td>27.7</td>\n      <td>2020-01-05</td>\n      <td>41.0</td>\n      <td>10.0</td>\n      <td>0.001</td>\n      <td>0.0</td>\n      <td>people tested</td>\n      <td>0.0</td>\n      <td>NaN</td>\n      <td>NaN</td>\n      <td>NaN</td>\n      <td>NaN</td>\n      <td>NaN</td>\n      <td>NaN</td>\n      <td>NaN</td>\n      <td>NaN</td>\n      <td>NaN</td>\n      <td>NaN</td>\n      <td>NaN</td>\n      <td>NaN</td>\n      <td>NaN</td>\n      <td>NaN</td>\n      <td>NaN</td>\n      <td>NaN</td>\n      <td>NaN</td>\n      <td>NaN</td>\n      <td>NaN</td>\n      <td>NaN</td>\n      <td>NaN</td>\n      <td>NaN</td>\n      <td>NaN</td>\n      <td>NaN</td>\n      <td>NaN</td>\n      <td>NaN</td>\n      <td>NaN</td>\n      <td>NaN</td>\n      <td>NaN</td>\n      <td>NaN</td>\n    </tr>\n    <tr>\n      <th>...</th>\n      <td>...</td>\n      <td>...</td>\n      <td>...</td>\n      <td>...</td>\n      <td>...</td>\n      <td>...</td>\n      <td>...</td>\n      <td>...</td>\n      <td>...</td>\n      <td>...</td>\n      <td>...</td>\n      <td>...</td>\n      <td>...</td>\n      <td>...</td>\n      <td>...</td>\n      <td>...</td>\n      <td>...</td>\n      <td>...</td>\n      <td>...</td>\n      <td>...</td>\n      <td>...</td>\n      <td>...</td>\n      <td>...</td>\n      <td>...</td>\n      <td>...</td>\n      <td>...</td>\n      <td>...</td>\n      <td>...</td>\n      <td>...</td>\n      <td>...</td>\n      <td>...</td>\n      <td>...</td>\n      <td>...</td>\n      <td>...</td>\n      <td>...</td>\n      <td>...</td>\n      <td>...</td>\n      <td>...</td>\n      <td>...</td>\n      <td>...</td>\n      <td>...</td>\n      <td>...</td>\n      <td>...</td>\n      <td>...</td>\n      <td>...</td>\n      <td>...</td>\n      <td>...</td>\n      <td>...</td>\n      <td>...</td>\n      <td>...</td>\n      <td>...</td>\n      <td>...</td>\n      <td>...</td>\n      <td>...</td>\n    </tr>\n    <tr>\n      <th>1736</th>\n      <td>Europe</td>\n      <td>Spain</td>\n      <td>46754783.0</td>\n      <td>93.105</td>\n      <td>45.5</td>\n      <td>19.436</td>\n      <td>13.799</td>\n      <td>34272.360</td>\n      <td>99.403</td>\n      <td>7.17</td>\n      <td>NaN</td>\n      <td>2.97</td>\n      <td>83.56</td>\n      <td>0.891</td>\n      <td>1.0</td>\n      <td>27.4</td>\n      <td>31.4</td>\n      <td>2021-01-14</td>\n      <td>NaN</td>\n      <td>NaN</td>\n      <td>NaN</td>\n      <td>NaN</td>\n      <td>NaN</td>\n      <td>71.3</td>\n      <td>NaN</td>\n      <td>NaN</td>\n      <td>2211967.0</td>\n      <td>35878.0</td>\n      <td>47309.962</td>\n      <td>767.365</td>\n      <td>26723.286</td>\n      <td>53079.0</td>\n      <td>201.0</td>\n      <td>200.571</td>\n      <td>571.563</td>\n      <td>1135.264</td>\n      <td>4.299</td>\n      <td>4.290</td>\n      <td>NaN</td>\n      <td>NaN</td>\n      <td>NaN</td>\n      <td>676186.0</td>\n      <td>1.45</td>\n      <td>66980.0</td>\n      <td>1433.0</td>\n      <td>94548.0</td>\n      <td>NaN</td>\n      <td>NaN</td>\n      <td>NaN</td>\n      <td>NaN</td>\n      <td>NaN</td>\n      <td>NaN</td>\n      <td>NaN</td>\n      <td>NaN</td>\n    </tr>\n    <tr>\n      <th>1737</th>\n      <td>Europe</td>\n      <td>Spain</td>\n      <td>46754783.0</td>\n      <td>93.105</td>\n      <td>45.5</td>\n      <td>19.436</td>\n      <td>13.799</td>\n      <td>34272.360</td>\n      <td>99.403</td>\n      <td>7.17</td>\n      <td>NaN</td>\n      <td>2.97</td>\n      <td>83.56</td>\n      <td>0.891</td>\n      <td>1.0</td>\n      <td>27.4</td>\n      <td>31.4</td>\n      <td>2021-01-15</td>\n      <td>NaN</td>\n      <td>NaN</td>\n      <td>NaN</td>\n      <td>NaN</td>\n      <td>NaN</td>\n      <td>71.3</td>\n      <td>NaN</td>\n      <td>NaN</td>\n      <td>2252164.0</td>\n      <td>40197.0</td>\n      <td>48169.703</td>\n      <td>859.741</td>\n      <td>28829.143</td>\n      <td>53314.0</td>\n      <td>235.0</td>\n      <td>205.714</td>\n      <td>616.603</td>\n      <td>1140.290</td>\n      <td>5.026</td>\n      <td>4.400</td>\n      <td>NaN</td>\n      <td>NaN</td>\n      <td>NaN</td>\n      <td>768950.0</td>\n      <td>1.64</td>\n      <td>70139.0</td>\n      <td>1500.0</td>\n      <td>92764.0</td>\n      <td>NaN</td>\n      <td>NaN</td>\n      <td>NaN</td>\n      <td>NaN</td>\n      <td>NaN</td>\n      <td>NaN</td>\n      <td>NaN</td>\n      <td>NaN</td>\n    </tr>\n    <tr>\n      <th>1738</th>\n      <td>Europe</td>\n      <td>Spain</td>\n      <td>46754783.0</td>\n      <td>93.105</td>\n      <td>45.5</td>\n      <td>19.436</td>\n      <td>13.799</td>\n      <td>34272.360</td>\n      <td>99.403</td>\n      <td>7.17</td>\n      <td>NaN</td>\n      <td>2.97</td>\n      <td>83.56</td>\n      <td>0.891</td>\n      <td>1.0</td>\n      <td>27.4</td>\n      <td>31.4</td>\n      <td>2021-01-16</td>\n      <td>NaN</td>\n      <td>NaN</td>\n      <td>NaN</td>\n      <td>NaN</td>\n      <td>NaN</td>\n      <td>71.3</td>\n      <td>NaN</td>\n      <td>NaN</td>\n      <td>2252164.0</td>\n      <td>0.0</td>\n      <td>48169.703</td>\n      <td>0.000</td>\n      <td>28829.143</td>\n      <td>53314.0</td>\n      <td>0.0</td>\n      <td>205.714</td>\n      <td>616.603</td>\n      <td>1140.290</td>\n      <td>0.000</td>\n      <td>4.400</td>\n      <td>NaN</td>\n      <td>NaN</td>\n      <td>NaN</td>\n      <td>NaN</td>\n      <td>NaN</td>\n      <td>70181.0</td>\n      <td>1501.0</td>\n      <td>NaN</td>\n      <td>NaN</td>\n      <td>NaN</td>\n      <td>NaN</td>\n      <td>NaN</td>\n      <td>NaN</td>\n      <td>NaN</td>\n      <td>NaN</td>\n      <td>NaN</td>\n    </tr>\n    <tr>\n      <th>1739</th>\n      <td>Europe</td>\n      <td>Spain</td>\n      <td>46754783.0</td>\n      <td>93.105</td>\n      <td>45.5</td>\n      <td>19.436</td>\n      <td>13.799</td>\n      <td>34272.360</td>\n      <td>99.403</td>\n      <td>7.17</td>\n      <td>NaN</td>\n      <td>2.97</td>\n      <td>83.56</td>\n      <td>0.891</td>\n      <td>1.0</td>\n      <td>27.4</td>\n      <td>31.4</td>\n      <td>2021-01-17</td>\n      <td>NaN</td>\n      <td>NaN</td>\n      <td>NaN</td>\n      <td>NaN</td>\n      <td>NaN</td>\n      <td>71.3</td>\n      <td>NaN</td>\n      <td>NaN</td>\n      <td>2252164.0</td>\n      <td>0.0</td>\n      <td>48169.703</td>\n      <td>0.000</td>\n      <td>28829.143</td>\n      <td>53314.0</td>\n      <td>0.0</td>\n      <td>205.714</td>\n      <td>616.603</td>\n      <td>1140.290</td>\n      <td>0.000</td>\n      <td>4.400</td>\n      <td>NaN</td>\n      <td>NaN</td>\n      <td>NaN</td>\n      <td>NaN</td>\n      <td>NaN</td>\n      <td>70223.0</td>\n      <td>1502.0</td>\n      <td>NaN</td>\n      <td>NaN</td>\n      <td>NaN</td>\n      <td>NaN</td>\n      <td>NaN</td>\n      <td>NaN</td>\n      <td>NaN</td>\n      <td>NaN</td>\n      <td>NaN</td>\n    </tr>\n    <tr>\n      <th>1740</th>\n      <td>Europe</td>\n      <td>Spain</td>\n      <td>46754783.0</td>\n      <td>93.105</td>\n      <td>45.5</td>\n      <td>19.436</td>\n      <td>13.799</td>\n      <td>34272.360</td>\n      <td>99.403</td>\n      <td>7.17</td>\n      <td>NaN</td>\n      <td>2.97</td>\n      <td>83.56</td>\n      <td>0.891</td>\n      <td>1.0</td>\n      <td>27.4</td>\n      <td>31.4</td>\n      <td>2021-01-18</td>\n      <td>NaN</td>\n      <td>NaN</td>\n      <td>NaN</td>\n      <td>NaN</td>\n      <td>NaN</td>\n      <td>NaN</td>\n      <td>NaN</td>\n      <td>NaN</td>\n      <td>2336451.0</td>\n      <td>84287.0</td>\n      <td>49972.449</td>\n      <td>1802.746</td>\n      <td>32095.571</td>\n      <td>53769.0</td>\n      <td>455.0</td>\n      <td>213.429</td>\n      <td>686.466</td>\n      <td>1150.021</td>\n      <td>9.732</td>\n      <td>4.565</td>\n      <td>NaN</td>\n      <td>NaN</td>\n      <td>NaN</td>\n      <td>897942.0</td>\n      <td>1.92</td>\n      <td>70264.0</td>\n      <td>1503.0</td>\n      <td>NaN</td>\n      <td>NaN</td>\n      <td>NaN</td>\n      <td>NaN</td>\n      <td>NaN</td>\n      <td>NaN</td>\n      <td>NaN</td>\n      <td>NaN</td>\n      <td>NaN</td>\n    </tr>\n  </tbody>\n</table>\n<p>1741 rows × 54 columns</p>\n</div>"
     },
     "metadata": {},
     "execution_count": 19
    }
   ],
   "source": [
    "covid=df_covid(covid,val1=\"data\")\n",
    "covid"
   ]
  },
  {
   "cell_type": "code",
   "execution_count": 20,
   "metadata": {},
   "outputs": [
    {
     "output_type": "execute_result",
     "data": {
      "text/plain": [
       "          continent  ... data.hosp_patients_per_million\n",
       "0     South America  ...                            NaN\n",
       "1     South America  ...                            NaN\n",
       "2     South America  ...                            NaN\n",
       "3     South America  ...                            NaN\n",
       "4     South America  ...                            NaN\n",
       "...             ...  ...                            ...\n",
       "1736         Europe  ...                            NaN\n",
       "1737         Europe  ...                            NaN\n",
       "1738         Europe  ...                            NaN\n",
       "1739         Europe  ...                            NaN\n",
       "1740         Europe  ...                            NaN\n",
       "\n",
       "[1741 rows x 54 columns]"
      ],
      "text/html": "<div>\n<style scoped>\n    .dataframe tbody tr th:only-of-type {\n        vertical-align: middle;\n    }\n\n    .dataframe tbody tr th {\n        vertical-align: top;\n    }\n\n    .dataframe thead th {\n        text-align: right;\n    }\n</style>\n<table border=\"1\" class=\"dataframe\">\n  <thead>\n    <tr style=\"text-align: right;\">\n      <th></th>\n      <th>continent</th>\n      <th>location</th>\n      <th>population</th>\n      <th>population_density</th>\n      <th>median_age</th>\n      <th>aged_65_older</th>\n      <th>aged_70_older</th>\n      <th>gdp_per_capita</th>\n      <th>cardiovasc_death_rate</th>\n      <th>diabetes_prevalence</th>\n      <th>handwashing_facilities</th>\n      <th>hospital_beds_per_thousand</th>\n      <th>life_expectancy</th>\n      <th>human_development_index</th>\n      <th>extreme_poverty</th>\n      <th>female_smokers</th>\n      <th>male_smokers</th>\n      <th>data.date</th>\n      <th>data.total_tests</th>\n      <th>data.new_tests</th>\n      <th>data.total_tests_per_thousand</th>\n      <th>data.new_tests_per_thousand</th>\n      <th>data.tests_units</th>\n      <th>data.stringency_index</th>\n      <th>data.new_tests_smoothed</th>\n      <th>data.new_tests_smoothed_per_thousand</th>\n      <th>data.total_cases</th>\n      <th>data.new_cases</th>\n      <th>data.total_cases_per_million</th>\n      <th>data.new_cases_per_million</th>\n      <th>data.new_cases_smoothed</th>\n      <th>data.total_deaths</th>\n      <th>data.new_deaths</th>\n      <th>data.new_deaths_smoothed</th>\n      <th>data.new_cases_smoothed_per_million</th>\n      <th>data.total_deaths_per_million</th>\n      <th>data.new_deaths_per_million</th>\n      <th>data.new_deaths_smoothed_per_million</th>\n      <th>data.positive_rate</th>\n      <th>data.tests_per_case</th>\n      <th>data.reproduction_rate</th>\n      <th>data.total_vaccinations</th>\n      <th>data.total_vaccinations_per_hundred</th>\n      <th>data.new_vaccinations_smoothed</th>\n      <th>data.new_vaccinations_smoothed_per_million</th>\n      <th>data.new_vaccinations</th>\n      <th>data.weekly_icu_admissions</th>\n      <th>data.weekly_icu_admissions_per_million</th>\n      <th>data.weekly_hosp_admissions</th>\n      <th>data.weekly_hosp_admissions_per_million</th>\n      <th>data.icu_patients</th>\n      <th>data.icu_patients_per_million</th>\n      <th>data.hosp_patients</th>\n      <th>data.hosp_patients_per_million</th>\n    </tr>\n  </thead>\n  <tbody>\n    <tr>\n      <th>0</th>\n      <td>South America</td>\n      <td>Argentina</td>\n      <td>45195777.0</td>\n      <td>16.177</td>\n      <td>31.9</td>\n      <td>11.198</td>\n      <td>7.441</td>\n      <td>18933.907</td>\n      <td>191.032</td>\n      <td>5.50</td>\n      <td>NaN</td>\n      <td>5.00</td>\n      <td>76.67</td>\n      <td>0.825</td>\n      <td>0.6</td>\n      <td>16.2</td>\n      <td>27.7</td>\n      <td>2020-01-01</td>\n      <td>4.0</td>\n      <td>4.0</td>\n      <td>0.000</td>\n      <td>0.0</td>\n      <td>people tested</td>\n      <td>0.0</td>\n      <td>NaN</td>\n      <td>NaN</td>\n      <td>NaN</td>\n      <td>NaN</td>\n      <td>NaN</td>\n      <td>NaN</td>\n      <td>NaN</td>\n      <td>NaN</td>\n      <td>NaN</td>\n      <td>NaN</td>\n      <td>NaN</td>\n      <td>NaN</td>\n      <td>NaN</td>\n      <td>NaN</td>\n      <td>NaN</td>\n      <td>NaN</td>\n      <td>NaN</td>\n      <td>NaN</td>\n      <td>NaN</td>\n      <td>NaN</td>\n      <td>NaN</td>\n      <td>NaN</td>\n      <td>NaN</td>\n      <td>NaN</td>\n      <td>NaN</td>\n      <td>NaN</td>\n      <td>NaN</td>\n      <td>NaN</td>\n      <td>NaN</td>\n      <td>NaN</td>\n    </tr>\n    <tr>\n      <th>1</th>\n      <td>South America</td>\n      <td>Argentina</td>\n      <td>45195777.0</td>\n      <td>16.177</td>\n      <td>31.9</td>\n      <td>11.198</td>\n      <td>7.441</td>\n      <td>18933.907</td>\n      <td>191.032</td>\n      <td>5.50</td>\n      <td>NaN</td>\n      <td>5.00</td>\n      <td>76.67</td>\n      <td>0.825</td>\n      <td>0.6</td>\n      <td>16.2</td>\n      <td>27.7</td>\n      <td>2020-01-02</td>\n      <td>14.0</td>\n      <td>10.0</td>\n      <td>0.000</td>\n      <td>0.0</td>\n      <td>people tested</td>\n      <td>0.0</td>\n      <td>NaN</td>\n      <td>NaN</td>\n      <td>NaN</td>\n      <td>NaN</td>\n      <td>NaN</td>\n      <td>NaN</td>\n      <td>NaN</td>\n      <td>NaN</td>\n      <td>NaN</td>\n      <td>NaN</td>\n      <td>NaN</td>\n      <td>NaN</td>\n      <td>NaN</td>\n      <td>NaN</td>\n      <td>NaN</td>\n      <td>NaN</td>\n      <td>NaN</td>\n      <td>NaN</td>\n      <td>NaN</td>\n      <td>NaN</td>\n      <td>NaN</td>\n      <td>NaN</td>\n      <td>NaN</td>\n      <td>NaN</td>\n      <td>NaN</td>\n      <td>NaN</td>\n      <td>NaN</td>\n      <td>NaN</td>\n      <td>NaN</td>\n      <td>NaN</td>\n    </tr>\n    <tr>\n      <th>2</th>\n      <td>South America</td>\n      <td>Argentina</td>\n      <td>45195777.0</td>\n      <td>16.177</td>\n      <td>31.9</td>\n      <td>11.198</td>\n      <td>7.441</td>\n      <td>18933.907</td>\n      <td>191.032</td>\n      <td>5.50</td>\n      <td>NaN</td>\n      <td>5.00</td>\n      <td>76.67</td>\n      <td>0.825</td>\n      <td>0.6</td>\n      <td>16.2</td>\n      <td>27.7</td>\n      <td>2020-01-03</td>\n      <td>19.0</td>\n      <td>5.0</td>\n      <td>0.000</td>\n      <td>0.0</td>\n      <td>people tested</td>\n      <td>0.0</td>\n      <td>NaN</td>\n      <td>NaN</td>\n      <td>NaN</td>\n      <td>NaN</td>\n      <td>NaN</td>\n      <td>NaN</td>\n      <td>NaN</td>\n      <td>NaN</td>\n      <td>NaN</td>\n      <td>NaN</td>\n      <td>NaN</td>\n      <td>NaN</td>\n      <td>NaN</td>\n      <td>NaN</td>\n      <td>NaN</td>\n      <td>NaN</td>\n      <td>NaN</td>\n      <td>NaN</td>\n      <td>NaN</td>\n      <td>NaN</td>\n      <td>NaN</td>\n      <td>NaN</td>\n      <td>NaN</td>\n      <td>NaN</td>\n      <td>NaN</td>\n      <td>NaN</td>\n      <td>NaN</td>\n      <td>NaN</td>\n      <td>NaN</td>\n      <td>NaN</td>\n    </tr>\n    <tr>\n      <th>3</th>\n      <td>South America</td>\n      <td>Argentina</td>\n      <td>45195777.0</td>\n      <td>16.177</td>\n      <td>31.9</td>\n      <td>11.198</td>\n      <td>7.441</td>\n      <td>18933.907</td>\n      <td>191.032</td>\n      <td>5.50</td>\n      <td>NaN</td>\n      <td>5.00</td>\n      <td>76.67</td>\n      <td>0.825</td>\n      <td>0.6</td>\n      <td>16.2</td>\n      <td>27.7</td>\n      <td>2020-01-04</td>\n      <td>31.0</td>\n      <td>12.0</td>\n      <td>0.001</td>\n      <td>0.0</td>\n      <td>people tested</td>\n      <td>0.0</td>\n      <td>NaN</td>\n      <td>NaN</td>\n      <td>NaN</td>\n      <td>NaN</td>\n      <td>NaN</td>\n      <td>NaN</td>\n      <td>NaN</td>\n      <td>NaN</td>\n      <td>NaN</td>\n      <td>NaN</td>\n      <td>NaN</td>\n      <td>NaN</td>\n      <td>NaN</td>\n      <td>NaN</td>\n      <td>NaN</td>\n      <td>NaN</td>\n      <td>NaN</td>\n      <td>NaN</td>\n      <td>NaN</td>\n      <td>NaN</td>\n      <td>NaN</td>\n      <td>NaN</td>\n      <td>NaN</td>\n      <td>NaN</td>\n      <td>NaN</td>\n      <td>NaN</td>\n      <td>NaN</td>\n      <td>NaN</td>\n      <td>NaN</td>\n      <td>NaN</td>\n    </tr>\n    <tr>\n      <th>4</th>\n      <td>South America</td>\n      <td>Argentina</td>\n      <td>45195777.0</td>\n      <td>16.177</td>\n      <td>31.9</td>\n      <td>11.198</td>\n      <td>7.441</td>\n      <td>18933.907</td>\n      <td>191.032</td>\n      <td>5.50</td>\n      <td>NaN</td>\n      <td>5.00</td>\n      <td>76.67</td>\n      <td>0.825</td>\n      <td>0.6</td>\n      <td>16.2</td>\n      <td>27.7</td>\n      <td>2020-01-05</td>\n      <td>41.0</td>\n      <td>10.0</td>\n      <td>0.001</td>\n      <td>0.0</td>\n      <td>people tested</td>\n      <td>0.0</td>\n      <td>NaN</td>\n      <td>NaN</td>\n      <td>NaN</td>\n      <td>NaN</td>\n      <td>NaN</td>\n      <td>NaN</td>\n      <td>NaN</td>\n      <td>NaN</td>\n      <td>NaN</td>\n      <td>NaN</td>\n      <td>NaN</td>\n      <td>NaN</td>\n      <td>NaN</td>\n      <td>NaN</td>\n      <td>NaN</td>\n      <td>NaN</td>\n      <td>NaN</td>\n      <td>NaN</td>\n      <td>NaN</td>\n      <td>NaN</td>\n      <td>NaN</td>\n      <td>NaN</td>\n      <td>NaN</td>\n      <td>NaN</td>\n      <td>NaN</td>\n      <td>NaN</td>\n      <td>NaN</td>\n      <td>NaN</td>\n      <td>NaN</td>\n      <td>NaN</td>\n    </tr>\n    <tr>\n      <th>...</th>\n      <td>...</td>\n      <td>...</td>\n      <td>...</td>\n      <td>...</td>\n      <td>...</td>\n      <td>...</td>\n      <td>...</td>\n      <td>...</td>\n      <td>...</td>\n      <td>...</td>\n      <td>...</td>\n      <td>...</td>\n      <td>...</td>\n      <td>...</td>\n      <td>...</td>\n      <td>...</td>\n      <td>...</td>\n      <td>...</td>\n      <td>...</td>\n      <td>...</td>\n      <td>...</td>\n      <td>...</td>\n      <td>...</td>\n      <td>...</td>\n      <td>...</td>\n      <td>...</td>\n      <td>...</td>\n      <td>...</td>\n      <td>...</td>\n      <td>...</td>\n      <td>...</td>\n      <td>...</td>\n      <td>...</td>\n      <td>...</td>\n      <td>...</td>\n      <td>...</td>\n      <td>...</td>\n      <td>...</td>\n      <td>...</td>\n      <td>...</td>\n      <td>...</td>\n      <td>...</td>\n      <td>...</td>\n      <td>...</td>\n      <td>...</td>\n      <td>...</td>\n      <td>...</td>\n      <td>...</td>\n      <td>...</td>\n      <td>...</td>\n      <td>...</td>\n      <td>...</td>\n      <td>...</td>\n      <td>...</td>\n    </tr>\n    <tr>\n      <th>1736</th>\n      <td>Europe</td>\n      <td>Spain</td>\n      <td>46754783.0</td>\n      <td>93.105</td>\n      <td>45.5</td>\n      <td>19.436</td>\n      <td>13.799</td>\n      <td>34272.360</td>\n      <td>99.403</td>\n      <td>7.17</td>\n      <td>NaN</td>\n      <td>2.97</td>\n      <td>83.56</td>\n      <td>0.891</td>\n      <td>1.0</td>\n      <td>27.4</td>\n      <td>31.4</td>\n      <td>2021-01-14</td>\n      <td>NaN</td>\n      <td>NaN</td>\n      <td>NaN</td>\n      <td>NaN</td>\n      <td>NaN</td>\n      <td>71.3</td>\n      <td>NaN</td>\n      <td>NaN</td>\n      <td>2211967.0</td>\n      <td>35878.0</td>\n      <td>47309.962</td>\n      <td>767.365</td>\n      <td>26723.286</td>\n      <td>53079.0</td>\n      <td>201.0</td>\n      <td>200.571</td>\n      <td>571.563</td>\n      <td>1135.264</td>\n      <td>4.299</td>\n      <td>4.290</td>\n      <td>NaN</td>\n      <td>NaN</td>\n      <td>NaN</td>\n      <td>676186.0</td>\n      <td>1.45</td>\n      <td>66980.0</td>\n      <td>1433.0</td>\n      <td>94548.0</td>\n      <td>NaN</td>\n      <td>NaN</td>\n      <td>NaN</td>\n      <td>NaN</td>\n      <td>NaN</td>\n      <td>NaN</td>\n      <td>NaN</td>\n      <td>NaN</td>\n    </tr>\n    <tr>\n      <th>1737</th>\n      <td>Europe</td>\n      <td>Spain</td>\n      <td>46754783.0</td>\n      <td>93.105</td>\n      <td>45.5</td>\n      <td>19.436</td>\n      <td>13.799</td>\n      <td>34272.360</td>\n      <td>99.403</td>\n      <td>7.17</td>\n      <td>NaN</td>\n      <td>2.97</td>\n      <td>83.56</td>\n      <td>0.891</td>\n      <td>1.0</td>\n      <td>27.4</td>\n      <td>31.4</td>\n      <td>2021-01-15</td>\n      <td>NaN</td>\n      <td>NaN</td>\n      <td>NaN</td>\n      <td>NaN</td>\n      <td>NaN</td>\n      <td>71.3</td>\n      <td>NaN</td>\n      <td>NaN</td>\n      <td>2252164.0</td>\n      <td>40197.0</td>\n      <td>48169.703</td>\n      <td>859.741</td>\n      <td>28829.143</td>\n      <td>53314.0</td>\n      <td>235.0</td>\n      <td>205.714</td>\n      <td>616.603</td>\n      <td>1140.290</td>\n      <td>5.026</td>\n      <td>4.400</td>\n      <td>NaN</td>\n      <td>NaN</td>\n      <td>NaN</td>\n      <td>768950.0</td>\n      <td>1.64</td>\n      <td>70139.0</td>\n      <td>1500.0</td>\n      <td>92764.0</td>\n      <td>NaN</td>\n      <td>NaN</td>\n      <td>NaN</td>\n      <td>NaN</td>\n      <td>NaN</td>\n      <td>NaN</td>\n      <td>NaN</td>\n      <td>NaN</td>\n    </tr>\n    <tr>\n      <th>1738</th>\n      <td>Europe</td>\n      <td>Spain</td>\n      <td>46754783.0</td>\n      <td>93.105</td>\n      <td>45.5</td>\n      <td>19.436</td>\n      <td>13.799</td>\n      <td>34272.360</td>\n      <td>99.403</td>\n      <td>7.17</td>\n      <td>NaN</td>\n      <td>2.97</td>\n      <td>83.56</td>\n      <td>0.891</td>\n      <td>1.0</td>\n      <td>27.4</td>\n      <td>31.4</td>\n      <td>2021-01-16</td>\n      <td>NaN</td>\n      <td>NaN</td>\n      <td>NaN</td>\n      <td>NaN</td>\n      <td>NaN</td>\n      <td>71.3</td>\n      <td>NaN</td>\n      <td>NaN</td>\n      <td>2252164.0</td>\n      <td>0.0</td>\n      <td>48169.703</td>\n      <td>0.000</td>\n      <td>28829.143</td>\n      <td>53314.0</td>\n      <td>0.0</td>\n      <td>205.714</td>\n      <td>616.603</td>\n      <td>1140.290</td>\n      <td>0.000</td>\n      <td>4.400</td>\n      <td>NaN</td>\n      <td>NaN</td>\n      <td>NaN</td>\n      <td>NaN</td>\n      <td>NaN</td>\n      <td>70181.0</td>\n      <td>1501.0</td>\n      <td>NaN</td>\n      <td>NaN</td>\n      <td>NaN</td>\n      <td>NaN</td>\n      <td>NaN</td>\n      <td>NaN</td>\n      <td>NaN</td>\n      <td>NaN</td>\n      <td>NaN</td>\n    </tr>\n    <tr>\n      <th>1739</th>\n      <td>Europe</td>\n      <td>Spain</td>\n      <td>46754783.0</td>\n      <td>93.105</td>\n      <td>45.5</td>\n      <td>19.436</td>\n      <td>13.799</td>\n      <td>34272.360</td>\n      <td>99.403</td>\n      <td>7.17</td>\n      <td>NaN</td>\n      <td>2.97</td>\n      <td>83.56</td>\n      <td>0.891</td>\n      <td>1.0</td>\n      <td>27.4</td>\n      <td>31.4</td>\n      <td>2021-01-17</td>\n      <td>NaN</td>\n      <td>NaN</td>\n      <td>NaN</td>\n      <td>NaN</td>\n      <td>NaN</td>\n      <td>71.3</td>\n      <td>NaN</td>\n      <td>NaN</td>\n      <td>2252164.0</td>\n      <td>0.0</td>\n      <td>48169.703</td>\n      <td>0.000</td>\n      <td>28829.143</td>\n      <td>53314.0</td>\n      <td>0.0</td>\n      <td>205.714</td>\n      <td>616.603</td>\n      <td>1140.290</td>\n      <td>0.000</td>\n      <td>4.400</td>\n      <td>NaN</td>\n      <td>NaN</td>\n      <td>NaN</td>\n      <td>NaN</td>\n      <td>NaN</td>\n      <td>70223.0</td>\n      <td>1502.0</td>\n      <td>NaN</td>\n      <td>NaN</td>\n      <td>NaN</td>\n      <td>NaN</td>\n      <td>NaN</td>\n      <td>NaN</td>\n      <td>NaN</td>\n      <td>NaN</td>\n      <td>NaN</td>\n    </tr>\n    <tr>\n      <th>1740</th>\n      <td>Europe</td>\n      <td>Spain</td>\n      <td>46754783.0</td>\n      <td>93.105</td>\n      <td>45.5</td>\n      <td>19.436</td>\n      <td>13.799</td>\n      <td>34272.360</td>\n      <td>99.403</td>\n      <td>7.17</td>\n      <td>NaN</td>\n      <td>2.97</td>\n      <td>83.56</td>\n      <td>0.891</td>\n      <td>1.0</td>\n      <td>27.4</td>\n      <td>31.4</td>\n      <td>2021-01-18</td>\n      <td>NaN</td>\n      <td>NaN</td>\n      <td>NaN</td>\n      <td>NaN</td>\n      <td>NaN</td>\n      <td>NaN</td>\n      <td>NaN</td>\n      <td>NaN</td>\n      <td>2336451.0</td>\n      <td>84287.0</td>\n      <td>49972.449</td>\n      <td>1802.746</td>\n      <td>32095.571</td>\n      <td>53769.0</td>\n      <td>455.0</td>\n      <td>213.429</td>\n      <td>686.466</td>\n      <td>1150.021</td>\n      <td>9.732</td>\n      <td>4.565</td>\n      <td>NaN</td>\n      <td>NaN</td>\n      <td>NaN</td>\n      <td>897942.0</td>\n      <td>1.92</td>\n      <td>70264.0</td>\n      <td>1503.0</td>\n      <td>NaN</td>\n      <td>NaN</td>\n      <td>NaN</td>\n      <td>NaN</td>\n      <td>NaN</td>\n      <td>NaN</td>\n      <td>NaN</td>\n      <td>NaN</td>\n      <td>NaN</td>\n    </tr>\n  </tbody>\n</table>\n<p>1741 rows × 54 columns</p>\n</div>"
     },
     "metadata": {},
     "execution_count": 20
    }
   ],
   "source": [
    "covid= datetime(dt=covid, val1=\"data.date\")\n",
    "covid"
   ]
  },
  {
   "cell_type": "code",
   "execution_count": 22,
   "metadata": {},
   "outputs": [
    {
     "output_type": "stream",
     "name": "stdout",
     "text": [
      "<class 'pandas.core.frame.DataFrame'>\nRangeIndex: 1741 entries, 0 to 1740\nData columns (total 54 columns):\n #   Column                                      Non-Null Count  Dtype         \n---  ------                                      --------------  -----         \n 0   continent                                   1741 non-null   object        \n 1   location                                    1741 non-null   object        \n 2   population                                  1741 non-null   float64       \n 3   population_density                          1741 non-null   float64       \n 4   median_age                                  1741 non-null   float64       \n 5   aged_65_older                               1741 non-null   float64       \n 6   aged_70_older                               1741 non-null   float64       \n 7   gdp_per_capita                              1741 non-null   float64       \n 8   cardiovasc_death_rate                       1741 non-null   float64       \n 9   diabetes_prevalence                         1741 non-null   float64       \n 10  handwashing_facilities                      319 non-null    float64       \n 11  hospital_beds_per_thousand                  1741 non-null   float64       \n 12  life_expectancy                             1741 non-null   float64       \n 13  human_development_index                     1741 non-null   float64       \n 14  extreme_poverty                             1741 non-null   float64       \n 15  female_smokers                              1741 non-null   float64       \n 16  male_smokers                                1741 non-null   float64       \n 17  data.date                                   1741 non-null   datetime64[ns]\n 18  data.total_tests                            1209 non-null   float64       \n 19  data.new_tests                              1157 non-null   float64       \n 20  data.total_tests_per_thousand               1209 non-null   float64       \n 21  data.new_tests_per_thousand                 1157 non-null   float64       \n 22  data.tests_units                            1483 non-null   object        \n 23  data.stringency_index                       1723 non-null   float64       \n 24  data.new_tests_smoothed                     1448 non-null   float64       \n 25  data.new_tests_smoothed_per_thousand        1448 non-null   float64       \n 26  data.total_cases                            1679 non-null   float64       \n 27  data.new_cases                              1679 non-null   float64       \n 28  data.total_cases_per_million                1679 non-null   float64       \n 29  data.new_cases_per_million                  1679 non-null   float64       \n 30  data.new_cases_smoothed                     1654 non-null   float64       \n 31  data.total_deaths                           1551 non-null   float64       \n 32  data.new_deaths                             1551 non-null   float64       \n 33  data.new_deaths_smoothed                    1654 non-null   float64       \n 34  data.new_cases_smoothed_per_million         1654 non-null   float64       \n 35  data.total_deaths_per_million               1551 non-null   float64       \n 36  data.new_deaths_per_million                 1551 non-null   float64       \n 37  data.new_deaths_smoothed_per_million        1654 non-null   float64       \n 38  data.positive_rate                          1382 non-null   float64       \n 39  data.tests_per_case                         1382 non-null   float64       \n 40  data.reproduction_rate                      1498 non-null   float64       \n 41  data.total_vaccinations                     33 non-null     float64       \n 42  data.total_vaccinations_per_hundred         33 non-null     float64       \n 43  data.new_vaccinations_smoothed              85 non-null     float64       \n 44  data.new_vaccinations_smoothed_per_million  85 non-null     float64       \n 45  data.new_vaccinations                       16 non-null     float64       \n 46  data.weekly_icu_admissions                  50 non-null     float64       \n 47  data.weekly_icu_admissions_per_million      50 non-null     float64       \n 48  data.weekly_hosp_admissions                 50 non-null     float64       \n 49  data.weekly_hosp_admissions_per_million     50 non-null     float64       \n 50  data.icu_patients                           97 non-null     float64       \n 51  data.icu_patients_per_million               97 non-null     float64       \n 52  data.hosp_patients                          97 non-null     float64       \n 53  data.hosp_patients_per_million              97 non-null     float64       \ndtypes: datetime64[ns](1), float64(50), object(3)\nmemory usage: 734.6+ KB\n"
     ]
    }
   ],
   "source": [
    "covid.info()"
   ]
  },
  {
   "cell_type": "code",
   "execution_count": null,
   "metadata": {},
   "outputs": [],
   "source": []
  }
 ]
}
{
 "metadata": {
  "language_info": {
   "codemirror_mode": {
    "name": "ipython",
    "version": 3
   },
   "file_extension": ".py",
   "mimetype": "text/x-python",
   "name": "python",
   "nbconvert_exporter": "python",
   "pygments_lexer": "ipython3",
   "version": "3.9.0-final"
  },
  "orig_nbformat": 2,
  "kernelspec": {
   "name": "python3",
   "display_name": "Python 3.9.0 64-bit",
   "metadata": {
    "interpreter": {
     "hash": "ac59ebe37160ed0dfa835113d9b8498d9f09ceb179beaac4002f036b9467c963"
    }
   }
  }
 },
 "nbformat": 4,
 "nbformat_minor": 2,
 "cells": [
  {
   "cell_type": "code",
   "execution_count": 1,
   "metadata": {},
   "outputs": [],
   "source": [
    "import pandas as pd\n",
    "from utils.folders_tb import jsonlink_df\n",
    "from utils.mining_data_tb import extract_dict_values"
   ]
  },
  {
   "cell_type": "code",
   "execution_count": 2,
   "metadata": {},
   "outputs": [
    {
     "output_type": "execute_result",
     "data": {
      "text/plain": [
       "         continent     location   population population_density median_age  \\\n",
       "AFG           Asia  Afghanistan  3.89283e+07             54.422       18.6   \n",
       "ALB         Europe      Albania   2.8778e+06            104.871         38   \n",
       "DZA         Africa      Algeria   4.3851e+07             17.348       29.1   \n",
       "AND         Europe      Andorra        77265            163.755        NaN   \n",
       "AGO         Africa       Angola  3.28663e+07              23.89       16.8   \n",
       "...            ...          ...          ...                ...        ...   \n",
       "VNM           Asia      Vietnam  9.73386e+07            308.127       32.6   \n",
       "OWID_WRL       NaN        World   7.7948e+09             58.045       30.9   \n",
       "YEM           Asia        Yemen   2.9826e+07             53.508       20.3   \n",
       "ZMB         Africa       Zambia   1.8384e+07             22.995       17.7   \n",
       "ZWE         Africa     Zimbabwe  1.48629e+07             42.729       19.6   \n",
       "\n",
       "         aged_65_older aged_70_older gdp_per_capita cardiovasc_death_rate  \\\n",
       "AFG              2.581         1.337        1803.99               597.029   \n",
       "ALB             13.188         8.643        11803.4               304.195   \n",
       "DZA              6.211         3.857        13913.8               278.364   \n",
       "AND                NaN           NaN            NaN               109.135   \n",
       "AGO              2.405         1.362        5819.49               276.045   \n",
       "...                ...           ...            ...                   ...   \n",
       "VNM               7.15         4.718        6171.88               245.465   \n",
       "OWID_WRL         8.696         5.355        15469.2                233.07   \n",
       "YEM              2.922         1.583        1479.15               495.003   \n",
       "ZMB               2.48         1.542        3689.25               234.499   \n",
       "ZWE              2.822         1.882        1899.78               307.846   \n",
       "\n",
       "         diabetes_prevalence handwashing_facilities  \\\n",
       "AFG                     9.59                 37.746   \n",
       "ALB                    10.08                    NaN   \n",
       "DZA                     6.73                 83.741   \n",
       "AND                     7.97                    NaN   \n",
       "AGO                     3.94                 26.664   \n",
       "...                      ...                    ...   \n",
       "VNM                        6                 85.847   \n",
       "OWID_WRL                8.51                  60.13   \n",
       "YEM                     5.35                 49.542   \n",
       "ZMB                     3.94                 13.938   \n",
       "ZWE                     1.82                 36.791   \n",
       "\n",
       "         hospital_beds_per_thousand life_expectancy human_development_index  \\\n",
       "AFG                             0.5           64.83                   0.498   \n",
       "ALB                            2.89           78.57                   0.785   \n",
       "DZA                             1.9           76.88                   0.754   \n",
       "AND                             NaN           83.73                   0.858   \n",
       "AGO                             NaN           61.15                   0.581   \n",
       "...                             ...             ...                     ...   \n",
       "VNM                             2.6            75.4                   0.694   \n",
       "OWID_WRL                      2.705           72.58                     NaN   \n",
       "YEM                             0.7           66.12                   0.452   \n",
       "ZMB                               2           63.89                   0.588   \n",
       "ZWE                             1.7           61.49                   0.535   \n",
       "\n",
       "                                                       data extreme_poverty  \\\n",
       "AFG       [{'date': '2020-02-24', 'total_cases': 1.0, 'n...             NaN   \n",
       "ALB       [{'date': '2020-03-09', 'total_cases': 2.0, 'n...             1.1   \n",
       "DZA       [{'date': '2020-02-25', 'total_cases': 1.0, 'n...             0.5   \n",
       "AND       [{'date': '2020-03-02', 'total_cases': 1.0, 'n...             NaN   \n",
       "AGO       [{'date': '2020-03-20', 'total_cases': 1.0, 'n...             NaN   \n",
       "...                                                     ...             ...   \n",
       "VNM       [{'date': '2020-01-23', 'total_cases': 2.0, 'n...               2   \n",
       "OWID_WRL  [{'date': '2020-01-22', 'total_cases': 557.0, ...              10   \n",
       "YEM       [{'date': '2020-04-10', 'total_cases': 1.0, 'n...            18.8   \n",
       "ZMB       [{'date': '2020-03-18', 'total_cases': 2.0, 'n...            57.5   \n",
       "ZWE       [{'date': '2020-03-20', 'total_cases': 1.0, 'n...            21.4   \n",
       "\n",
       "         female_smokers male_smokers  \n",
       "AFG                 NaN          NaN  \n",
       "ALB                 7.1         51.2  \n",
       "DZA                 0.7         30.4  \n",
       "AND                  29         37.8  \n",
       "AGO                 NaN          NaN  \n",
       "...                 ...          ...  \n",
       "VNM                   1         45.9  \n",
       "OWID_WRL          6.434       34.635  \n",
       "YEM                 7.6         29.2  \n",
       "ZMB                 3.1         24.7  \n",
       "ZWE                 1.6         30.7  \n",
       "\n",
       "[191 rows x 18 columns]"
      ],
      "text/html": "<div>\n<style scoped>\n    .dataframe tbody tr th:only-of-type {\n        vertical-align: middle;\n    }\n\n    .dataframe tbody tr th {\n        vertical-align: top;\n    }\n\n    .dataframe thead th {\n        text-align: right;\n    }\n</style>\n<table border=\"1\" class=\"dataframe\">\n  <thead>\n    <tr style=\"text-align: right;\">\n      <th></th>\n      <th>continent</th>\n      <th>location</th>\n      <th>population</th>\n      <th>population_density</th>\n      <th>median_age</th>\n      <th>aged_65_older</th>\n      <th>aged_70_older</th>\n      <th>gdp_per_capita</th>\n      <th>cardiovasc_death_rate</th>\n      <th>diabetes_prevalence</th>\n      <th>handwashing_facilities</th>\n      <th>hospital_beds_per_thousand</th>\n      <th>life_expectancy</th>\n      <th>human_development_index</th>\n      <th>data</th>\n      <th>extreme_poverty</th>\n      <th>female_smokers</th>\n      <th>male_smokers</th>\n    </tr>\n  </thead>\n  <tbody>\n    <tr>\n      <th>AFG</th>\n      <td>Asia</td>\n      <td>Afghanistan</td>\n      <td>3.89283e+07</td>\n      <td>54.422</td>\n      <td>18.6</td>\n      <td>2.581</td>\n      <td>1.337</td>\n      <td>1803.99</td>\n      <td>597.029</td>\n      <td>9.59</td>\n      <td>37.746</td>\n      <td>0.5</td>\n      <td>64.83</td>\n      <td>0.498</td>\n      <td>[{'date': '2020-02-24', 'total_cases': 1.0, 'n...</td>\n      <td>NaN</td>\n      <td>NaN</td>\n      <td>NaN</td>\n    </tr>\n    <tr>\n      <th>ALB</th>\n      <td>Europe</td>\n      <td>Albania</td>\n      <td>2.8778e+06</td>\n      <td>104.871</td>\n      <td>38</td>\n      <td>13.188</td>\n      <td>8.643</td>\n      <td>11803.4</td>\n      <td>304.195</td>\n      <td>10.08</td>\n      <td>NaN</td>\n      <td>2.89</td>\n      <td>78.57</td>\n      <td>0.785</td>\n      <td>[{'date': '2020-03-09', 'total_cases': 2.0, 'n...</td>\n      <td>1.1</td>\n      <td>7.1</td>\n      <td>51.2</td>\n    </tr>\n    <tr>\n      <th>DZA</th>\n      <td>Africa</td>\n      <td>Algeria</td>\n      <td>4.3851e+07</td>\n      <td>17.348</td>\n      <td>29.1</td>\n      <td>6.211</td>\n      <td>3.857</td>\n      <td>13913.8</td>\n      <td>278.364</td>\n      <td>6.73</td>\n      <td>83.741</td>\n      <td>1.9</td>\n      <td>76.88</td>\n      <td>0.754</td>\n      <td>[{'date': '2020-02-25', 'total_cases': 1.0, 'n...</td>\n      <td>0.5</td>\n      <td>0.7</td>\n      <td>30.4</td>\n    </tr>\n    <tr>\n      <th>AND</th>\n      <td>Europe</td>\n      <td>Andorra</td>\n      <td>77265</td>\n      <td>163.755</td>\n      <td>NaN</td>\n      <td>NaN</td>\n      <td>NaN</td>\n      <td>NaN</td>\n      <td>109.135</td>\n      <td>7.97</td>\n      <td>NaN</td>\n      <td>NaN</td>\n      <td>83.73</td>\n      <td>0.858</td>\n      <td>[{'date': '2020-03-02', 'total_cases': 1.0, 'n...</td>\n      <td>NaN</td>\n      <td>29</td>\n      <td>37.8</td>\n    </tr>\n    <tr>\n      <th>AGO</th>\n      <td>Africa</td>\n      <td>Angola</td>\n      <td>3.28663e+07</td>\n      <td>23.89</td>\n      <td>16.8</td>\n      <td>2.405</td>\n      <td>1.362</td>\n      <td>5819.49</td>\n      <td>276.045</td>\n      <td>3.94</td>\n      <td>26.664</td>\n      <td>NaN</td>\n      <td>61.15</td>\n      <td>0.581</td>\n      <td>[{'date': '2020-03-20', 'total_cases': 1.0, 'n...</td>\n      <td>NaN</td>\n      <td>NaN</td>\n      <td>NaN</td>\n    </tr>\n    <tr>\n      <th>...</th>\n      <td>...</td>\n      <td>...</td>\n      <td>...</td>\n      <td>...</td>\n      <td>...</td>\n      <td>...</td>\n      <td>...</td>\n      <td>...</td>\n      <td>...</td>\n      <td>...</td>\n      <td>...</td>\n      <td>...</td>\n      <td>...</td>\n      <td>...</td>\n      <td>...</td>\n      <td>...</td>\n      <td>...</td>\n      <td>...</td>\n    </tr>\n    <tr>\n      <th>VNM</th>\n      <td>Asia</td>\n      <td>Vietnam</td>\n      <td>9.73386e+07</td>\n      <td>308.127</td>\n      <td>32.6</td>\n      <td>7.15</td>\n      <td>4.718</td>\n      <td>6171.88</td>\n      <td>245.465</td>\n      <td>6</td>\n      <td>85.847</td>\n      <td>2.6</td>\n      <td>75.4</td>\n      <td>0.694</td>\n      <td>[{'date': '2020-01-23', 'total_cases': 2.0, 'n...</td>\n      <td>2</td>\n      <td>1</td>\n      <td>45.9</td>\n    </tr>\n    <tr>\n      <th>OWID_WRL</th>\n      <td>NaN</td>\n      <td>World</td>\n      <td>7.7948e+09</td>\n      <td>58.045</td>\n      <td>30.9</td>\n      <td>8.696</td>\n      <td>5.355</td>\n      <td>15469.2</td>\n      <td>233.07</td>\n      <td>8.51</td>\n      <td>60.13</td>\n      <td>2.705</td>\n      <td>72.58</td>\n      <td>NaN</td>\n      <td>[{'date': '2020-01-22', 'total_cases': 557.0, ...</td>\n      <td>10</td>\n      <td>6.434</td>\n      <td>34.635</td>\n    </tr>\n    <tr>\n      <th>YEM</th>\n      <td>Asia</td>\n      <td>Yemen</td>\n      <td>2.9826e+07</td>\n      <td>53.508</td>\n      <td>20.3</td>\n      <td>2.922</td>\n      <td>1.583</td>\n      <td>1479.15</td>\n      <td>495.003</td>\n      <td>5.35</td>\n      <td>49.542</td>\n      <td>0.7</td>\n      <td>66.12</td>\n      <td>0.452</td>\n      <td>[{'date': '2020-04-10', 'total_cases': 1.0, 'n...</td>\n      <td>18.8</td>\n      <td>7.6</td>\n      <td>29.2</td>\n    </tr>\n    <tr>\n      <th>ZMB</th>\n      <td>Africa</td>\n      <td>Zambia</td>\n      <td>1.8384e+07</td>\n      <td>22.995</td>\n      <td>17.7</td>\n      <td>2.48</td>\n      <td>1.542</td>\n      <td>3689.25</td>\n      <td>234.499</td>\n      <td>3.94</td>\n      <td>13.938</td>\n      <td>2</td>\n      <td>63.89</td>\n      <td>0.588</td>\n      <td>[{'date': '2020-03-18', 'total_cases': 2.0, 'n...</td>\n      <td>57.5</td>\n      <td>3.1</td>\n      <td>24.7</td>\n    </tr>\n    <tr>\n      <th>ZWE</th>\n      <td>Africa</td>\n      <td>Zimbabwe</td>\n      <td>1.48629e+07</td>\n      <td>42.729</td>\n      <td>19.6</td>\n      <td>2.822</td>\n      <td>1.882</td>\n      <td>1899.78</td>\n      <td>307.846</td>\n      <td>1.82</td>\n      <td>36.791</td>\n      <td>1.7</td>\n      <td>61.49</td>\n      <td>0.535</td>\n      <td>[{'date': '2020-03-20', 'total_cases': 1.0, 'n...</td>\n      <td>21.4</td>\n      <td>1.6</td>\n      <td>30.7</td>\n    </tr>\n  </tbody>\n</table>\n<p>191 rows × 18 columns</p>\n</div>"
     },
     "metadata": {},
     "execution_count": 2
    }
   ],
   "source": [
    "covid = jsonlink_df('https://covid.ourworldindata.org/data/owid-covid-data.json').T\n",
    "covid"
   ]
  },
  {
   "cell_type": "code",
   "execution_count": null,
   "metadata": {},
   "outputs": [],
   "source": [
    "data_covid = covid.loc[:, ['data']]\n",
    "data_covid = extract_dict_values(df_name=data_covid, column_df='data')\n",
    "data_covid"
   ]
  }
 ]
}